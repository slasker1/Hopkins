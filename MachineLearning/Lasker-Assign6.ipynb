{
 "cells": [
  {
   "cell_type": "code",
   "execution_count": 1,
   "metadata": {},
   "outputs": [
    {
     "data": {
      "text/html": [
       "<div>\n",
       "<style scoped>\n",
       "    .dataframe tbody tr th:only-of-type {\n",
       "        vertical-align: middle;\n",
       "    }\n",
       "\n",
       "    .dataframe tbody tr th {\n",
       "        vertical-align: top;\n",
       "    }\n",
       "\n",
       "    .dataframe thead th {\n",
       "        text-align: right;\n",
       "    }\n",
       "</style>\n",
       "<table border=\"1\" class=\"dataframe\">\n",
       "  <thead>\n",
       "    <tr style=\"text-align: right;\">\n",
       "      <th></th>\n",
       "      <th>class</th>\n",
       "      <th>cap-shape</th>\n",
       "      <th>cap-surface</th>\n",
       "      <th>cap-color</th>\n",
       "      <th>bruises</th>\n",
       "      <th>odor</th>\n",
       "      <th>gill-attachment</th>\n",
       "      <th>gill-spacing</th>\n",
       "      <th>gill-size</th>\n",
       "      <th>gill-color</th>\n",
       "      <th>...</th>\n",
       "      <th>stalk-surface-below-ring</th>\n",
       "      <th>stalk-color-above-ring</th>\n",
       "      <th>stalk-color-below-ring</th>\n",
       "      <th>veil-type</th>\n",
       "      <th>veil-color</th>\n",
       "      <th>ring-number</th>\n",
       "      <th>ring-type</th>\n",
       "      <th>spore-print-color</th>\n",
       "      <th>population</th>\n",
       "      <th>habitat</th>\n",
       "    </tr>\n",
       "  </thead>\n",
       "  <tbody>\n",
       "    <tr>\n",
       "      <th>0</th>\n",
       "      <td>p</td>\n",
       "      <td>x</td>\n",
       "      <td>s</td>\n",
       "      <td>n</td>\n",
       "      <td>t</td>\n",
       "      <td>p</td>\n",
       "      <td>f</td>\n",
       "      <td>c</td>\n",
       "      <td>n</td>\n",
       "      <td>k</td>\n",
       "      <td>...</td>\n",
       "      <td>s</td>\n",
       "      <td>w</td>\n",
       "      <td>w</td>\n",
       "      <td>p</td>\n",
       "      <td>w</td>\n",
       "      <td>o</td>\n",
       "      <td>p</td>\n",
       "      <td>k</td>\n",
       "      <td>s</td>\n",
       "      <td>u</td>\n",
       "    </tr>\n",
       "    <tr>\n",
       "      <th>1</th>\n",
       "      <td>e</td>\n",
       "      <td>x</td>\n",
       "      <td>s</td>\n",
       "      <td>y</td>\n",
       "      <td>t</td>\n",
       "      <td>a</td>\n",
       "      <td>f</td>\n",
       "      <td>c</td>\n",
       "      <td>b</td>\n",
       "      <td>k</td>\n",
       "      <td>...</td>\n",
       "      <td>s</td>\n",
       "      <td>w</td>\n",
       "      <td>w</td>\n",
       "      <td>p</td>\n",
       "      <td>w</td>\n",
       "      <td>o</td>\n",
       "      <td>p</td>\n",
       "      <td>n</td>\n",
       "      <td>n</td>\n",
       "      <td>g</td>\n",
       "    </tr>\n",
       "    <tr>\n",
       "      <th>2</th>\n",
       "      <td>e</td>\n",
       "      <td>b</td>\n",
       "      <td>s</td>\n",
       "      <td>w</td>\n",
       "      <td>t</td>\n",
       "      <td>l</td>\n",
       "      <td>f</td>\n",
       "      <td>c</td>\n",
       "      <td>b</td>\n",
       "      <td>n</td>\n",
       "      <td>...</td>\n",
       "      <td>s</td>\n",
       "      <td>w</td>\n",
       "      <td>w</td>\n",
       "      <td>p</td>\n",
       "      <td>w</td>\n",
       "      <td>o</td>\n",
       "      <td>p</td>\n",
       "      <td>n</td>\n",
       "      <td>n</td>\n",
       "      <td>m</td>\n",
       "    </tr>\n",
       "    <tr>\n",
       "      <th>3</th>\n",
       "      <td>p</td>\n",
       "      <td>x</td>\n",
       "      <td>y</td>\n",
       "      <td>w</td>\n",
       "      <td>t</td>\n",
       "      <td>p</td>\n",
       "      <td>f</td>\n",
       "      <td>c</td>\n",
       "      <td>n</td>\n",
       "      <td>n</td>\n",
       "      <td>...</td>\n",
       "      <td>s</td>\n",
       "      <td>w</td>\n",
       "      <td>w</td>\n",
       "      <td>p</td>\n",
       "      <td>w</td>\n",
       "      <td>o</td>\n",
       "      <td>p</td>\n",
       "      <td>k</td>\n",
       "      <td>s</td>\n",
       "      <td>u</td>\n",
       "    </tr>\n",
       "    <tr>\n",
       "      <th>4</th>\n",
       "      <td>e</td>\n",
       "      <td>x</td>\n",
       "      <td>s</td>\n",
       "      <td>g</td>\n",
       "      <td>f</td>\n",
       "      <td>n</td>\n",
       "      <td>f</td>\n",
       "      <td>w</td>\n",
       "      <td>b</td>\n",
       "      <td>k</td>\n",
       "      <td>...</td>\n",
       "      <td>s</td>\n",
       "      <td>w</td>\n",
       "      <td>w</td>\n",
       "      <td>p</td>\n",
       "      <td>w</td>\n",
       "      <td>o</td>\n",
       "      <td>e</td>\n",
       "      <td>n</td>\n",
       "      <td>a</td>\n",
       "      <td>g</td>\n",
       "    </tr>\n",
       "  </tbody>\n",
       "</table>\n",
       "<p>5 rows × 23 columns</p>\n",
       "</div>"
      ],
      "text/plain": [
       "  class cap-shape cap-surface cap-color bruises odor gill-attachment  \\\n",
       "0     p         x           s         n       t    p               f   \n",
       "1     e         x           s         y       t    a               f   \n",
       "2     e         b           s         w       t    l               f   \n",
       "3     p         x           y         w       t    p               f   \n",
       "4     e         x           s         g       f    n               f   \n",
       "\n",
       "  gill-spacing gill-size gill-color  ... stalk-surface-below-ring  \\\n",
       "0            c         n          k  ...                        s   \n",
       "1            c         b          k  ...                        s   \n",
       "2            c         b          n  ...                        s   \n",
       "3            c         n          n  ...                        s   \n",
       "4            w         b          k  ...                        s   \n",
       "\n",
       "  stalk-color-above-ring stalk-color-below-ring veil-type veil-color  \\\n",
       "0                      w                      w         p          w   \n",
       "1                      w                      w         p          w   \n",
       "2                      w                      w         p          w   \n",
       "3                      w                      w         p          w   \n",
       "4                      w                      w         p          w   \n",
       "\n",
       "  ring-number ring-type spore-print-color population habitat  \n",
       "0           o         p                 k          s       u  \n",
       "1           o         p                 n          n       g  \n",
       "2           o         p                 n          n       m  \n",
       "3           o         p                 k          s       u  \n",
       "4           o         e                 n          a       g  \n",
       "\n",
       "[5 rows x 23 columns]"
      ]
     },
     "execution_count": 1,
     "metadata": {},
     "output_type": "execute_result"
    }
   ],
   "source": [
    "import numpy as np\n",
    "import pandas as pd\n",
    "import seaborn as sns\n",
    "from sklearn.ensemble import RandomForestClassifier\n",
    "import matplotlib.pyplot as plt\n",
    "%matplotlib inline\n",
    "\n",
    "mush_df = pd.read_csv(\"mushroom_dataset.csv\")\n",
    "mush_df.head()\n"
   ]
  },
  {
   "cell_type": "code",
   "execution_count": 2,
   "metadata": {},
   "outputs": [
    {
     "name": "stdout",
     "output_type": "stream",
     "text": [
      "<class 'pandas.core.frame.DataFrame'>\n",
      "RangeIndex: 8124 entries, 0 to 8123\n",
      "Data columns (total 23 columns):\n",
      " #   Column                    Non-Null Count  Dtype \n",
      "---  ------                    --------------  ----- \n",
      " 0   class                     8124 non-null   object\n",
      " 1   cap-shape                 8124 non-null   object\n",
      " 2   cap-surface               8124 non-null   object\n",
      " 3   cap-color                 8124 non-null   object\n",
      " 4   bruises                   8124 non-null   object\n",
      " 5   odor                      8124 non-null   object\n",
      " 6   gill-attachment           8124 non-null   object\n",
      " 7   gill-spacing              8124 non-null   object\n",
      " 8   gill-size                 8124 non-null   object\n",
      " 9   gill-color                8124 non-null   object\n",
      " 10  stalk-shape               8124 non-null   object\n",
      " 11  stalk-root                8124 non-null   object\n",
      " 12  stalk-surface-above-ring  8124 non-null   object\n",
      " 13  stalk-surface-below-ring  8124 non-null   object\n",
      " 14  stalk-color-above-ring    8124 non-null   object\n",
      " 15  stalk-color-below-ring    8124 non-null   object\n",
      " 16  veil-type                 8124 non-null   object\n",
      " 17  veil-color                8124 non-null   object\n",
      " 18  ring-number               8124 non-null   object\n",
      " 19  ring-type                 8124 non-null   object\n",
      " 20  spore-print-color         8124 non-null   object\n",
      " 21  population                8124 non-null   object\n",
      " 22  habitat                   8124 non-null   object\n",
      "dtypes: object(23)\n",
      "memory usage: 1.4+ MB\n",
      "None\n",
      "       class cap-shape cap-surface cap-color bruises  odor gill-attachment  \\\n",
      "count   8124      8124        8124      8124    8124  8124            8124   \n",
      "unique     2         6           4        10       2     9               2   \n",
      "top        e         x           y         n       f     n               f   \n",
      "freq    4208      3656        3244      2284    4748  3528            7914   \n",
      "\n",
      "       gill-spacing gill-size gill-color  ... stalk-surface-below-ring  \\\n",
      "count          8124      8124       8124  ...                     8124   \n",
      "unique            2         2         12  ...                        4   \n",
      "top               c         b          b  ...                        s   \n",
      "freq           6812      5612       1728  ...                     4936   \n",
      "\n",
      "       stalk-color-above-ring stalk-color-below-ring veil-type veil-color  \\\n",
      "count                    8124                   8124      8124       8124   \n",
      "unique                      9                      9         1          4   \n",
      "top                         w                      w         p          w   \n",
      "freq                     4464                   4384      8124       7924   \n",
      "\n",
      "       ring-number ring-type spore-print-color population habitat  \n",
      "count         8124      8124              8124       8124    8124  \n",
      "unique           3         5                 9          6       7  \n",
      "top              o         p                 w          v       d  \n",
      "freq          7488      3968              2388       4040    3148  \n",
      "\n",
      "[4 rows x 23 columns]\n",
      "[]\n"
     ]
    }
   ],
   "source": [
    "#understanding the data set\n",
    "print(mush_df.info())\n",
    "#There are no null values!\n",
    "\n",
    "#Descriptive Statistics\n",
    "print(mush_df.describe())\n",
    "\n",
    "#Find all numeric columns\n",
    "print(mush_df.select_dtypes(include=np.number).columns.tolist())\n",
    "#there are NO numeric... NO nominal columns, only categorical, must be converted\n"
   ]
  },
  {
   "cell_type": "code",
   "execution_count": 3,
   "metadata": {},
   "outputs": [
    {
     "name": "stdout",
     "output_type": "stream",
     "text": [
      "[6, 4, 10, 2, 9, 2, 2, 2, 12, 2, 5, 4, 4, 9, 9, 1, 4, 3, 5, 9, 6, 7]\n",
      "The sum of all unique values is: 117 so when we do get_dummies we need to see 117 columns for the test set\n",
      "   cap-shape_b  cap-shape_c  cap-shape_f  cap-shape_k  cap-shape_s  \\\n",
      "0            0            0            0            0            0   \n",
      "1            0            0            0            0            0   \n",
      "2            1            0            0            0            0   \n",
      "3            0            0            0            0            0   \n",
      "4            0            0            0            0            0   \n",
      "\n",
      "   cap-shape_x  cap-surface_f  cap-surface_g  cap-surface_s  cap-surface_y  \\\n",
      "0            1              0              0              1              0   \n",
      "1            1              0              0              1              0   \n",
      "2            0              0              0              1              0   \n",
      "3            1              0              0              0              1   \n",
      "4            1              0              0              1              0   \n",
      "\n",
      "   ...  population_s  population_v  population_y  habitat_d  habitat_g  \\\n",
      "0  ...             1             0             0          0          0   \n",
      "1  ...             0             0             0          0          1   \n",
      "2  ...             0             0             0          0          0   \n",
      "3  ...             1             0             0          0          0   \n",
      "4  ...             0             0             0          0          1   \n",
      "\n",
      "   habitat_l  habitat_m  habitat_p  habitat_u  habitat_w  \n",
      "0          0          0          0          1          0  \n",
      "1          0          0          0          0          0  \n",
      "2          0          1          0          0          0  \n",
      "3          0          0          0          1          0  \n",
      "4          0          0          0          0          0  \n",
      "\n",
      "[5 rows x 117 columns]\n"
     ]
    }
   ],
   "source": [
    "#Creating a test data set without class\n",
    "test_df = mush_df.drop('class', axis=1)\n",
    "train_df = mush_df\n",
    "\n",
    "#find all unique values \n",
    "test_uq = test_df.nunique(axis=0).to_list()\n",
    "test_uq_sum = sum(test_uq)\n",
    "print(test_uq)\n",
    "\n",
    "print(\"The sum of all unique values is: \" + str(test_uq_sum) + \" so when we do get_dummies we need to see \" + \n",
    "    str(test_uq_sum) + \" columns for the test set\")\n",
    "\n",
    "test_df = pd.get_dummies(test_df)\n",
    "\n",
    "print(test_df.head())"
   ]
  },
  {
   "cell_type": "code",
   "execution_count": 4,
   "metadata": {},
   "outputs": [
    {
     "name": "stdout",
     "output_type": "stream",
     "text": [
      "   class_e  cap-shape_b  cap-shape_c  cap-shape_f  cap-shape_k  cap-shape_s  \\\n",
      "0        0            0            0            0            0            0   \n",
      "1        1            0            0            0            0            0   \n",
      "2        1            1            0            0            0            0   \n",
      "3        0            0            0            0            0            0   \n",
      "4        1            0            0            0            0            0   \n",
      "\n",
      "   cap-shape_x  cap-surface_f  cap-surface_g  cap-surface_s  ...  \\\n",
      "0            1              0              0              1  ...   \n",
      "1            1              0              0              1  ...   \n",
      "2            0              0              0              1  ...   \n",
      "3            1              0              0              0  ...   \n",
      "4            1              0              0              1  ...   \n",
      "\n",
      "   population_s  population_v  population_y  habitat_d  habitat_g  habitat_l  \\\n",
      "0             1             0             0          0          0          0   \n",
      "1             0             0             0          0          1          0   \n",
      "2             0             0             0          0          0          0   \n",
      "3             1             0             0          0          0          0   \n",
      "4             0             0             0          0          1          0   \n",
      "\n",
      "   habitat_m  habitat_p  habitat_u  habitat_w  \n",
      "0          0          0          1          0  \n",
      "1          0          0          0          0  \n",
      "2          1          0          0          0  \n",
      "3          0          0          1          0  \n",
      "4          0          0          0          0  \n",
      "\n",
      "[5 rows x 118 columns]\n"
     ]
    }
   ],
   "source": [
    "#Must DROP one of the class dummy sets, to train properly\n",
    "train_df = pd.get_dummies(train_df)\n",
    "#There CANNOT be class E and P, we drop class_p\n",
    "#class_e = 1 when class = e, class_e = 0 when class = p\n",
    "\n",
    "train_df = train_df.drop(\"class_p\", axis=1)\n",
    "\n",
    "print(train_df.head())\n",
    "\n",
    "#Now we have 118 columns instead of 119, perfect!"
   ]
  },
  {
   "cell_type": "markdown",
   "metadata": {},
   "source": [
    "1. [10 pts] Report 10-fold CV performances of GaussianNB, linear SVC (use\n",
    "    SVC(kernel='linear', probability=True)), MLPClassifier, and DecisionTreeClassifier\n",
    "    with default parameters. Now report the RandomForestClassifier performance too.\n"
   ]
  },
  {
   "cell_type": "code",
   "execution_count": 5,
   "metadata": {},
   "outputs": [
    {
     "name": "stdout",
     "output_type": "stream",
     "text": [
      "N=8124, M=117\n"
     ]
    }
   ],
   "source": [
    "# Prepare the input X and y\n",
    "dfX = train_df.loc[:, train_df.columns != 'class_e']\n",
    "dfy = train_df.loc[:, train_df.columns == 'class_e'].values.ravel()\n",
    "\n",
    "# Sanity check\n",
    "print(f'N={len(dfX)}, M={len(dfX.columns)}')\n"
   ]
  },
  {
   "cell_type": "code",
   "execution_count": 6,
   "metadata": {},
   "outputs": [],
   "source": [
    "# Set our main data structures X and y\n",
    "X = dfX.values\n",
    "y = dfy"
   ]
  },
  {
   "cell_type": "code",
   "execution_count": 7,
   "metadata": {},
   "outputs": [],
   "source": [
    "from sklearn.model_selection import StratifiedKFold\n",
    "from sklearn.metrics import accuracy_score\n",
    "\n",
    "def eval_classifier(_clf, _X, _y):\n",
    "    acc = []\n",
    "    kf = StratifiedKFold(n_splits=10, shuffle=False, random_state=None)\n",
    "    for train_index, test_index in kf.split(_X, _y):\n",
    "        _clf.fit(_X[train_index], _y[train_index])\n",
    "        y_pred = _clf.predict(_X[test_index])\n",
    "        acc += [accuracy_score(_y[test_index], y_pred)]\n",
    "    return np.array(acc)"
   ]
  },
  {
   "cell_type": "code",
   "execution_count": 8,
   "metadata": {},
   "outputs": [
    {
     "name": "stdout",
     "output_type": "stream",
     "text": [
      "Naive Bayes CV accuracy=0.91 ±0.086\n"
     ]
    }
   ],
   "source": [
    "from sklearn.naive_bayes import GaussianNB\n",
    "\n",
    "acc = eval_classifier(GaussianNB(),\n",
    "                      X, y)\n",
    "print(f'Naive Bayes CV accuracy={np.mean(acc):.2f} {chr(177)}{np.std(acc):.3f}')\n"
   ]
  },
  {
   "cell_type": "code",
   "execution_count": 9,
   "metadata": {},
   "outputs": [
    {
     "name": "stdout",
     "output_type": "stream",
     "text": [
      "SVM Linear CV accuracy=0.98 ±0.047\n"
     ]
    }
   ],
   "source": [
    "from sklearn.svm import SVC\n",
    "\n",
    "acc = eval_classifier(SVC(kernel='linear', probability=True),\n",
    "                      X, y)\n",
    "print(f'SVM Linear CV accuracy={np.mean(acc):.2f} {chr(177)}{np.std(acc):.3f}')"
   ]
  },
  {
   "cell_type": "code",
   "execution_count": 10,
   "metadata": {},
   "outputs": [
    {
     "name": "stdout",
     "output_type": "stream",
     "text": [
      "Neural Network CV accuracy=0.96 ±0.094\n"
     ]
    }
   ],
   "source": [
    "from sklearn.neural_network import MLPClassifier\n",
    "\n",
    "acc = eval_classifier(MLPClassifier(),\n",
    "                      X, y)\n",
    "print(f'Neural Network CV accuracy={np.mean(acc):.2f} {chr(177)}{np.std(acc):.3f}')"
   ]
  },
  {
   "cell_type": "code",
   "execution_count": 11,
   "metadata": {},
   "outputs": [
    {
     "name": "stdout",
     "output_type": "stream",
     "text": [
      "Decision Tree CV accuracy=0.97 ±0.094\n"
     ]
    }
   ],
   "source": [
    "from sklearn.tree import DecisionTreeClassifier\n",
    "\n",
    "acc = eval_classifier(DecisionTreeClassifier(),\n",
    "                      X, y)\n",
    "print(f'Decision Tree CV accuracy={np.mean(acc):.2f} {chr(177)}{np.std(acc):.3f}')"
   ]
  },
  {
   "cell_type": "code",
   "execution_count": 12,
   "metadata": {},
   "outputs": [
    {
     "name": "stdout",
     "output_type": "stream",
     "text": [
      "Random Forest CV accuracy=0.97 ±0.094\n"
     ]
    }
   ],
   "source": [
    "from sklearn.ensemble import RandomForestClassifier\n",
    "\n",
    "acc = eval_classifier(RandomForestClassifier(),\n",
    "                      X, y)\n",
    "print(f'Random Forest CV accuracy={np.mean(acc):.2f} {chr(177)}{np.std(acc):.3f}')"
   ]
  },
  {
   "cell_type": "markdown",
   "metadata": {},
   "source": [
    "2. [10 pts] Generate an ensemble of 100 classifiers for each of the four classifiers in Q1.\n",
    "    stored as a list. Set the neural network hidden sizes to (3, 3), max iterations to 30, and\n",
    "    tolerance to 1e-1. Set the decision tree parameters to max depth of 5 and max features of\n",
    "    5. We will evaluate these four ensemble classifiers.\n",
    "    For each of the ensemble, report the first classifier performance in the ensemble."
   ]
  },
  {
   "cell_type": "code",
   "execution_count": 13,
   "metadata": {},
   "outputs": [
    {
     "name": "stdout",
     "output_type": "stream",
     "text": [
      "First Naive Bayes CV accuracy=0.7794\n",
      "First SVM Linear CV accuracy=0.7794\n",
      "First Neural Network CV accuracy=0.7531\n",
      "First Decision Tree CV accuracy=0.6891\n"
     ]
    }
   ],
   "source": [
    "#Using the bagging method for ensamble at 100\n",
    "\n",
    "from sklearn import model_selection\n",
    "from sklearn.ensemble import BaggingClassifier\n",
    "\n",
    "#setting this to 2 so it finishes faster\n",
    "kfold = model_selection.KFold(n_splits=2)\n",
    "\n",
    "clf_gnb = GaussianNB()\n",
    "clf_svcl = SVC(kernel='linear', probability=True)\n",
    "clf_nn = MLPClassifier(hidden_layer_sizes=(3,3), max_iter=30, tol=1e-1)\n",
    "clf_dt = DecisionTreeClassifier(max_depth=5, max_features=5)\n",
    "\n",
    "num = 100\n",
    "\n",
    "model_gnb = BaggingClassifier(base_estimator=clf_gnb, n_estimators=num)\n",
    "model_svcl = BaggingClassifier(base_estimator=clf_svcl, n_estimators=num)\n",
    "model_nn = BaggingClassifier(base_estimator=clf_nn, n_estimators=num)\n",
    "model_dt = BaggingClassifier(base_estimator=clf_dt, n_estimators=num)\n",
    "\n",
    "results_gnb = model_selection.cross_val_score(model_gnb, X, y, cv=kfold)\n",
    "results_svcl = model_selection.cross_val_score(model_svcl, X, y, cv=kfold)\n",
    "results_nn = model_selection.cross_val_score(model_nn, X, y, cv=kfold)\n",
    "results_dt = model_selection.cross_val_score(model_dt, X, y, cv=kfold)\n",
    "\n",
    "\n",
    "first_acc_gnb = results_gnb[0]\n",
    "first_acc_svcl = results_svcl[0]\n",
    "first_acc_nn = results_nn[0]\n",
    "first_acc_dt = results_dt[0]\n",
    "\n",
    "\n",
    "print(f'First Naive Bayes CV accuracy={first_acc_gnb:.4f}')\n",
    "print(f'First SVM Linear CV accuracy={first_acc_svcl:.4f}')\n",
    "print(f'First Neural Network CV accuracy={first_acc_nn:.4f}')\n",
    "print(f'First Decision Tree CV accuracy={first_acc_dt:.4f}')"
   ]
  },
  {
   "cell_type": "markdown",
   "metadata": {},
   "source": [
    "3. [20 pts] Write a function ensemble_fit() to receive the ensemble (i.e. one of the lists in\n",
    "    Q2.) and train on one of the subsets of the training data (e.g. random.sample can generate\n",
    "    a subset). So each classifier will see only a different subset of the training dataset, also\n",
    "    called as subsampling the input data for training. (Use all features in the subsample)\n"
   ]
  },
  {
   "cell_type": "code",
   "execution_count": 14,
   "metadata": {},
   "outputs": [],
   "source": [
    "def features_randomsubset(_M, _m, n_estimators=1):\n",
    "    from numpy.random import choice\n",
    "    return [choice(_M, _m, replace=False) for _ in range(n_estimators)]\n",
    "\n",
    "def ensemble_fit(_pick_clf, _ensemble_cols, _X, _y):\n",
    "    n_estimators = len(_ensemble_cols)\n",
    "    ensemble_clf = []\n",
    "    for j in range(n_estimators):\n",
    "        Xs = _X[:,_ensemble_cols[j]]\n",
    "        ensemble_clf += [_pick_clf.fit(Xs, _y)]\n",
    "\n",
    "    return ensemble_clf\n"
   ]
  },
  {
   "cell_type": "markdown",
   "metadata": {},
   "source": [
    "4. [20 pts] Write a function ensemble_predict() to receive the trained ensemble (i.e. one of\n",
    "    the lists in Q3.) and test on the input. Use a voting scheme such as a histogram on the\n",
    "    returned predictions by c.predict() by each of the weak classifier. The final prediction\n",
    "    should be the np.argmax() of those counts. (Note that c.predict_proba() should have\n",
    "    better results.)\n",
    "    \n",
    "    See #5 for the final predictions using np.argmax()"
   ]
  },
  {
   "cell_type": "code",
   "execution_count": 15,
   "metadata": {},
   "outputs": [],
   "source": [
    "\n",
    "# Using trained ensemble, predict the outcome by majority voting\n",
    "def ensemble_predict(_ensemble_clf, _ensemble_cols, _Xtest):\n",
    "    from collections import defaultdict\n",
    "    n_estimators = len(_ensemble_clf)\n",
    "    assert n_estimators==len(_ensemble_cols)  # Error check\n",
    "    # weak learner predictions\n",
    "    ypred_e, yprob_e = [], []\n",
    "    for j in range(n_estimators):\n",
    "        Xs = _Xtest[:,_ensemble_cols[j]]\n",
    "        res = _ensemble_clf[j].predict(Xs), _ensemble_clf[j].predict_proba(Xs)\n",
    "        ypred_e += [res[0]]\n",
    "        yprob_e += [res[1]]  # score/probability of the prediction\n",
    "    # majority voting for each data point in _Xtest\n",
    "    ypred = []\n",
    "    for i in range(_Xtest.shape[0]):\n",
    "        ypred_scores = defaultdict(float)\n",
    "        for j in range(n_estimators):\n",
    "            for c, p in enumerate(yprob_e[j][i]):\n",
    "                # a proper score is necessary\n",
    "                ypred_scores[c] += p\n",
    "        ix = max(ypred_scores.items(), key=lambda a: a[1])\n",
    "        ypred += [ix[0]]\n",
    "\n",
    "    return np.array(ypred)"
   ]
  },
  {
   "cell_type": "markdown",
   "metadata": {},
   "source": [
    "5. [20 pts] Report 10-fold CV performances of the ensembles with a subsample ratio of 0.1.\n",
    "    Compare to a regular decision tree (same subsample ratio). Now repeat these for\n",
    "    subsample of 0.001."
   ]
  },
  {
   "cell_type": "code",
   "execution_count": 16,
   "metadata": {
    "scrolled": true
   },
   "outputs": [
    {
     "name": "stdout",
     "output_type": "stream",
     "text": [
      "GNB Ensemble learners= [0.51783518 0.56703567 0.52398524 0.5202952  0.53325123 0.56157635\n",
      " 0.73768473 0.72044335 0.61330049 0.78078818 0.51783518 0.51783518\n",
      " 0.51783518 0.51783518 0.51724138 0.51724138 0.51847291 0.51847291\n",
      " 0.51847291 0.51847291 0.51783518 0.51783518 0.51783518 0.51783518\n",
      " 0.51724138 0.51724138 0.51847291 0.51847291 0.47044335 0.51847291\n",
      " 0.48831488 0.51783518 0.51783518 0.51783518 0.51724138 0.51724138\n",
      " 0.51847291 0.51847291 0.51847291 0.51847291 0.46863469 0.44772448\n",
      " 0.45756458 0.4403444  0.29064039 0.41133005 0.48029557 0.48029557\n",
      " 0.46428571 0.4729064  0.51783518 0.51783518 0.51783518 0.51783518\n",
      " 0.51724138 0.51724138 0.51847291 0.51847291 0.51847291 0.51847291\n",
      " 0.49815498 0.45387454 0.35670357 0.36777368 0.43472906 0.40147783\n",
      " 0.56157635 0.56527094 0.80665025 0.83990148 0.51783518 0.51783518\n",
      " 0.51783518 0.51783518 0.51724138 0.51724138 0.51847291 0.51847291\n",
      " 0.51847291 0.51847291 0.51783518 0.51783518 0.51783518 0.51783518\n",
      " 0.51724138 0.51724138 0.51847291 0.51847291 0.51847291 0.51847291\n",
      " 0.53874539 0.50553506 0.66051661 0.65928659 0.40517241 0.31280788\n",
      " 0.08866995 0.08128079 0.12561576 0.11453202]\n",
      "GNB Ensemble learners Final Prediciton= 0.84\n",
      "Wall time: 28.9 s\n"
     ]
    }
   ],
   "source": [
    "%%time\n",
    "\n",
    "def eval_ensemble(_pick_clf, _X, _y, _niter, _n_estimators, _nfeatures):\n",
    "    acc = []\n",
    "    for i in range(_niter):\n",
    "        cols = features_randomsubset(_X.shape[1], _nfeatures, n_estimators=_n_estimators)\n",
    "        kf = StratifiedKFold(n_splits=10, shuffle=False, random_state=None)\n",
    "        for train_index, test_index in kf.split(_X, _y):\n",
    "            e_clf = ensemble_fit(_pick_clf, cols, _X[train_index], _y[train_index])\n",
    "            y_pred = ensemble_predict(e_clf, cols, _X[test_index])\n",
    "            acc += [accuracy_score(_y[test_index], y_pred)]\n",
    "\n",
    "    return np.array(acc)\n",
    "\n",
    "gnb_acc = eval_ensemble(clf_gnb, X, y, 10, 100, 10)\n",
    "#svc1_acc = eval_ensemble(clf_svcl, X, y, 10, 100, 10)\n",
    "#nn_acc = eval_ensemble(clf_nn, X, y, 100, 200, 11)\n",
    "#dt_acc = eval_ensemble(clf_dt, X, y, 10, 200, 10)\n",
    "\n",
    "\n",
    "print(f'GNB Ensemble learners= ' + str(gnb_acc))\n",
    "print(f'GNB Ensemble learners Final Prediciton= {gnb_acc[np.argmax(gnb_acc)]:.2f}')\n",
    "#print(f'Linear SVC Ensemble learners= ' + str(svc1_acc))\n",
    "#print(f'Linear SVC Ensemble Final Prediciton= {svc1_acc[np.argmax(svc1_acc)]:.2f}')\n",
    "#print(f'Decision Tree Ensemble learners= ' + str(dt_acc))\n",
    "#print(f'Decision Tree Ensemble Final Prediciton= {dt_acc[np.argmax(dt_acc)]:.2f}')\n",
    "\n",
    "def clf_fit(_pick_clf,_list_cols, _X, _y):\n",
    "    Xs = _X[:,_list_cols]\n",
    "    return _pick_clf.fit(Xs, _y)  # return a single NaiveBayes\n",
    "\n",
    "def clf_predict(_clf, _list_cols, _X):\n",
    "    Xs = _X[:,_list_cols]\n",
    "    return _clf.predict(Xs), _clf.predict_proba(Xs)\n",
    "\n",
    "def eval_single(_pick_clf,_X, _y, _niters, _nfeatures):\n",
    "    acc = []\n",
    "    for j in range(_niters):\n",
    "        cols = features_randomsubset(_X.shape[1], _nfeatures, n_estimators=1)\n",
    "        kf = StratifiedKFold(n_splits=10, shuffle=False, random_state=None)\n",
    "        for train_index, test_index in kf.split(_X, _y):\n",
    "            clf = clf_fit(_pick_clf, cols[0], _X[train_index], _y[train_index])\n",
    "            y_pred, y_prob = clf_predict(clf, cols[0], _X[test_index])\n",
    "            acc += [accuracy_score(_y[test_index], y_pred)]\n",
    "    return np.array(acc)\n",
    "    \n",
    "#individual learner\n",
    "#single_gnb_acc = eval_single(clf_gnb, X, y, 100, 10)\n",
    "#single_svc1_acc = eval_single(clf_svcl, X, y, 100, 10)\n",
    "#single_nn_acc = eval_single(clf_nn, X, y, 100, 10)\n",
    "#single_dt_acc = eval_single(clf_dt, X, y, 100, 10)\n",
    "\n",
    "#print(f'GNB single learners= ' + str(single_gnb_acc))\n",
    "#print(f'GNB single learners average Acc= {np.mean(single_gnb_acc):.2f} {chr(177)}{np.std(single_gnb_acc):.3f}')\n",
    "#print(f'Decision Tree single learners= ' + str(single_dt_acc))\n",
    "#print(f'Decision Tree single learners average Acc= {np.mean(single_dt_acc):.2f} {chr(177)}{np.std(single_dt_acc):.3f}')"
   ]
  },
  {
   "cell_type": "markdown",
   "metadata": {},
   "source": [
    "Marking down tests:\n",
    "for subsample ratio of 0.1\n",
    "\n",
    "GNB Ensemble learners Final Prediciton= 0.68\n",
    "GNB single learners average Acc= 0.66\n",
    "\n",
    "Decision Tree Ensemble Final Prediciton= 0.68\n",
    "Decision Tree single learners average Acc= 0.80\n",
    "\n",
    "Marking down tests:\n",
    "for subsample ratio of 0.001\n",
    "\n",
    "GNB Ensemble learners Final Prediciton= 0.74\n",
    "GNB single learners average Acc= 0.57\n",
    "\n",
    "Decision Tree Ensemble Final Prediciton= 0.52\n",
    "Decision Tree single learners average Acc= 0.79\n",
    "\n",
    "Having trouble running Linear SVC and Neaural Network in this code, machine is not processing."
   ]
  },
  {
   "cell_type": "markdown",
   "metadata": {},
   "source": [
    "6. [20 pts] Report and plot 10-fold CV performances of the ensembles for the training\n",
    "    subsample ratios of (0.0005, 0.001, 0.005, 0.01, 0.03, 0.05, 0.1) on the same graph.\n",
    "    Add the regular classifiers to the plot with same subsample ratios. (Hint: pass the regular\n",
    "    classifier to the same ensemble CV in a list of one element. Same script can be used for\n",
    "    this entire step)\n",
    "    Report your detailed observations."
   ]
  },
  {
   "cell_type": "code",
   "execution_count": 17,
   "metadata": {},
   "outputs": [
    {
     "data": {
      "text/plain": [
       "[('0.0', 'odor_l'),\n",
       " ('0.0', 'gill-color_p'),\n",
       " ('0.0', 'stalk-surface-below-ring_y'),\n",
       " ('0.0', 'stalk-color-above-ring_b'),\n",
       " ('0.0', 'gill-size_n'),\n",
       " ('0.0', 'stalk-color-above-ring_w'),\n",
       " ('0.0', 'odor_s'),\n",
       " ('0.0', 'odor_p'),\n",
       " ('0.0', 'odor_n')]"
      ]
     },
     "metadata": {},
     "output_type": "display_data"
    },
    {
     "data": {
      "text/plain": [
       "[('16.0', 'cap-color_p'),\n",
       " ('16.0', 'stalk-color-above-ring_g'),\n",
       " ('16.0', 'stalk-surface-above-ring_s'),\n",
       " ('16.0', 'cap-color_r'),\n",
       " ('8.0', 'cap-color_e')]"
      ]
     },
     "metadata": {},
     "output_type": "display_data"
    }
   ],
   "source": [
    "# Direct correlation between each column of X and the target y\n",
    "corrs = np.array([np.correlate(X[:,j], y)[0] for j in range(X.shape[1])])\n",
    "\n",
    "# Reverse sort, numpy array negation reverses the order\n",
    "ranks = np.argsort((-corrs))\n",
    "\n",
    "# Display top-9 and bot-5\n",
    "rankings = [(f'{corrs[j]:.1f}', train_df.columns[j]) for j in ranks]\n",
    "display(rankings[:9])\n",
    "display(rankings[-5:])"
   ]
  },
  {
   "cell_type": "code",
   "execution_count": 18,
   "metadata": {},
   "outputs": [
    {
     "name": "stdout",
     "output_type": "stream",
     "text": [
      "Wall time: 5min 35s\n"
     ]
    }
   ],
   "source": [
    "%%time\n",
    "\n",
    "# Run an experiment for a full scale of number of features\n",
    "valsF, accF, stdevF = [6, 10, 20], [], []\n",
    "for nf in valsF:\n",
    "    acc = eval_ensemble(clf_gnb, X, y, 10, 200, nf)\n",
    "    accF += [np.mean(acc)]\n",
    "    stdevF += [np.std(acc)]\n",
    "    \n",
    "valsD, accD, stdevD = [6, 10, 20], [], []\n",
    "for nf in valsD:\n",
    "    acc = eval_ensemble(clf_dt, X, y, 10, 200, nf)\n",
    "    accD += [np.mean(acc)]\n",
    "    stdevD += [np.std(acc)]\n",
    "    \n",
    "#CAUTION this runs @ Wall time: 5min 30s"
   ]
  },
  {
   "cell_type": "code",
   "execution_count": 19,
   "metadata": {},
   "outputs": [
    {
     "data": {
      "image/png": "[encoded data removed]",
      "text/plain": [
       "<Figure size 432x288 with 1 Axes>"
      ]
     },
     "metadata": {
      "needs_background": "light"
     },
     "output_type": "display_data"
    },
    {
     "name": "stdout",
     "output_type": "stream",
     "text": [
      "Wall time: 1.19 s\n"
     ]
    }
   ],
   "source": [
    "%%time\n",
    "\n",
    "# Add number of iterations - better statistics\n",
    "def eval_classifier_niter(_clf, _X, _y, _niter):\n",
    "    return np.array([eval_classifier(_clf, _X, _y) for i in range(_niter)])\n",
    "\n",
    "# Get the X matrix starting from the high-ranked variables\n",
    "def getX(_X, _ncols, _ranks):\n",
    "    cols = [j for n, j in enumerate(_ranks) if n < _ncols]\n",
    "    return np.array(_X[:,cols])\n",
    "\n",
    "# Iterate over the features, adding 1 by 1 by starting from the first (the best) feature\n",
    "valsNB, accNB, stdevNB = [6, 10, 20], [], []\n",
    "for nc in valsNB:\n",
    "    # feature order is coming from ranks\n",
    "    X_nb = getX(X, nc, ranks)\n",
    "    acc = eval_classifier_niter(clf_gnb, X_nb, y, 10)\n",
    "    accNB += [np.mean(acc)]\n",
    "    stdevNB += [np.std(acc)]\n",
    "\n",
    "valsDT, accDT, stdevDT = [6, 10, 20], [], []\n",
    "for nc in valsDT:\n",
    "    # feature order is coming from ranks\n",
    "    X_dt = getX(X, nc, ranks)\n",
    "    acc = eval_classifier_niter(clf_dt, X_dt, y, 10)\n",
    "    accDT += [np.mean(acc)]\n",
    "    stdevDT += [np.std(acc)]\n",
    "    \n",
    "accF, stdevF = np.array(accF), np.array(stdevF)\n",
    "accNB, stdevNB = np.array(accNB), np.array(stdevNB)\n",
    "accD, stdevD = np.array(accD), np.array(stdevD)\n",
    "accNB, stdevDT = np.array(accDT), np.array(stdevDT)\n",
    "\n",
    "# Plot\n",
    "plt.plot(valsF, accF, label='Ensemble NB')\n",
    "plt.plot(valsNB, accNB, label='Plain NB')\n",
    "plt.plot(valsD, accD, label='Ensemble DT')\n",
    "plt.plot(valsDT, accDT, label='Plain DT')\n",
    "plt.fill_between(valsF, accF-stdevF, accF+stdevF, color='lavender', alpha=0.5)\n",
    "plt.fill_between(valsNB, accNB-stdevNB, accNB+stdevNB, color='papayawhip', alpha=0.5)\n",
    "plt.fill_between(valsD, accD-stdevD, accD+stdevD, color='red', alpha=0.1)\n",
    "plt.fill_between(valsDT, accDT-stdevDT, accDT+stdevDT, color='green', alpha=0.1)\n",
    "plt.xlabel('Feature Subset Size')\n",
    "plt.ylabel('Accuracy')\n",
    "plt.legend(loc='lower right')\n",
    "plt.grid()\n",
    "plt.show()"
   ]
  },
  {
   "cell_type": "code",
   "execution_count": null,
   "metadata": {},
   "outputs": [],
   "source": []
  }
 ],
 "metadata": {
  "kernelspec": {
   "display_name": "Python 3",
   "language": "python",
   "name": "python3"
  },
  "language_info": {
   "codemirror_mode": {
    "name": "ipython",
    "version": 3
   },
   "file_extension": ".py",
   "mimetype": "text/x-python",
   "name": "python",
   "nbconvert_exporter": "python",
   "pygments_lexer": "ipython3",
   "version": "3.8.8"
  }
 },
 "nbformat": 4,
 "nbformat_minor": 4
}
